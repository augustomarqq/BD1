{
 "cells": [
  {
   "attachments": {},
   "cell_type": "markdown",
   "metadata": {},
   "source": [
    "### Importando as bibliotecas sqlite e pandas"
   ]
  },
  {
   "cell_type": "code",
   "execution_count": 3,
   "metadata": {},
   "outputs": [],
   "source": [
    "import sqlite3 as db\n",
    "import pandas as pd\n",
    "from calendar import monthrange\n",
    "from random import randint"
   ]
  },
  {
   "attachments": {},
   "cell_type": "markdown",
   "metadata": {},
   "source": [
    "### Criando a conexão e o cursor"
   ]
  },
  {
   "cell_type": "code",
   "execution_count": 5,
   "metadata": {},
   "outputs": [],
   "source": [
    "conn = db.connect('susy.db')\n",
    "cursor = conn.cursor()"
   ]
  },
  {
   "attachments": {},
   "cell_type": "markdown",
   "metadata": {},
   "source": [
    "### Criando a tabela Cliente"
   ]
  },
  {
   "cell_type": "code",
   "execution_count": 6,
   "metadata": {},
   "outputs": [
    {
     "data": {
      "text/plain": [
       "<sqlite3.Cursor at 0x7f0ae29191c0>"
      ]
     },
     "execution_count": 6,
     "metadata": {},
     "output_type": "execute_result"
    }
   ],
   "source": [
    "create_cliente_table = '''\n",
    "    CREATE TABLE IF NOT EXISTS Cliente (\n",
    "        ID INTEGER PRIMARY KEY AUTOINCREMENT NOT NULL,\n",
    "        Nome_Cliente TEXT NOT NULL,\n",
    "        Telefone_Cliente TEXT NOT NULL,\n",
    "        Email_Cliente TEXT NOT NULL\n",
    "    )\n",
    "'''\n",
    "cursor.execute(create_cliente_table)"
   ]
  },
  {
   "attachments": {},
   "cell_type": "markdown",
   "metadata": {},
   "source": [
    "### Criando a tabela Funcionario"
   ]
  },
  {
   "cell_type": "code",
   "execution_count": 7,
   "metadata": {},
   "outputs": [
    {
     "data": {
      "text/plain": [
       "<sqlite3.Cursor at 0x7f0ae29191c0>"
      ]
     },
     "execution_count": 7,
     "metadata": {},
     "output_type": "execute_result"
    }
   ],
   "source": [
    "create_funcionario_table = '''\n",
    "    CREATE TABLE IF NOT EXISTS Funcionario (\n",
    "        ID INTEGER PRIMARY KEY AUTOINCREMENT NOT NULL,\n",
    "        Nome_Func TEXT NOT NULL,\n",
    "        Telefone_Func TEXT NOT NULL,\n",
    "        Email_Func TEXT NOT NULL\n",
    "    )\n",
    "'''\n",
    "cursor.execute(create_funcionario_table)"
   ]
  },
  {
   "attachments": {},
   "cell_type": "markdown",
   "metadata": {},
   "source": [
    "### Criando a tabela Servico"
   ]
  },
  {
   "cell_type": "code",
   "execution_count": 8,
   "metadata": {},
   "outputs": [
    {
     "data": {
      "text/plain": [
       "<sqlite3.Cursor at 0x7f0ae29191c0>"
      ]
     },
     "execution_count": 8,
     "metadata": {},
     "output_type": "execute_result"
    }
   ],
   "source": [
    "create_servico_table = '''\n",
    "    CREATE TABLE IF NOT EXISTS Servico (\n",
    "        ID INTEGER PRIMARY KEY AUTOINCREMENT NOT NULL,\n",
    "        Nome_Servico TEXT NOT NULL,\n",
    "        Preco_Servico REAL NOT NULL\n",
    "    )\n",
    "'''\n",
    "cursor.execute(create_servico_table)"
   ]
  },
  {
   "attachments": {},
   "cell_type": "markdown",
   "metadata": {},
   "source": [
    "### Criando a tabela Atendimentos"
   ]
  },
  {
   "cell_type": "code",
   "execution_count": 9,
   "metadata": {},
   "outputs": [
    {
     "data": {
      "text/plain": [
       "<sqlite3.Cursor at 0x7f0ae29191c0>"
      ]
     },
     "execution_count": 9,
     "metadata": {},
     "output_type": "execute_result"
    }
   ],
   "source": [
    "create_atendimentos_table = '''\n",
    "    CREATE TABLE IF NOT EXISTS Atendimentos (\n",
    "        ID_Atendimento INTEGER PRIMARY KEY AUTOINCREMENT NOT NULL,\n",
    "        ID_Cliente INTEGER NOT NULL,\n",
    "        ID_Funcionario INTEGER NOT NULL,\n",
    "        ID_Servico INTEGER NOT NULL,\n",
    "        Data TEXT NOT NULL,\n",
    "        Hora TEXT NOT NULL,\n",
    "        FOREIGN KEY (ID_Cliente) REFERENCES Cliente(ID),\n",
    "        FOREIGN KEY (ID_Funcionario) REFERENCES Funcionario(ID),\n",
    "        FOREIGN KEY (ID_Servico) REFERENCES Servico(ID)\n",
    "    )\n",
    "'''\n",
    "cursor.execute(create_atendimentos_table)"
   ]
  },
  {
   "attachments": {},
   "cell_type": "markdown",
   "metadata": {},
   "source": [
    "### Inserindo dados na tabela Cliente"
   ]
  },
  {
   "cell_type": "code",
   "execution_count": 10,
   "metadata": {},
   "outputs": [
    {
     "data": {
      "text/plain": [
       "<sqlite3.Cursor at 0x7f0ae29191c0>"
      ]
     },
     "execution_count": 10,
     "metadata": {},
     "output_type": "execute_result"
    }
   ],
   "source": [
    "clientes = [\n",
    "    ('Ana Paula Rocha', '(81) 98763-2211', 'anapaula.rocha@gmail.com'),\n",
    "    ('Mariana Oliveira', '(81) 99977-4433', 'mariana.oliveira@hotmail.com'),\n",
    "    ('Carla Santos', '(81) 98866-3322', 'carla.santos@outlook.com'),\n",
    "    ('Juliana Lima', '(81) 99123-4567', 'juliana.lima@yahoo.com'),\n",
    "    ('Fernanda Martins', '(81) 99654-3322', 'fernandamartins21@gmail.com'),\n",
    "    ('Aline Costa', '(81) 99456-1234', 'alinecosta23@hotmail.com'),\n",
    "    ('Bianca Rodrigues', '(81) 98876-2211', 'biancarodrigues34@gmail.com'),\n",
    "    ('Camila Oliveira', '(81) 99987-5544', 'camila.oliveira89@hotmail.com'),\n",
    "    ('Denise Castro', '(81) 99776-0099', 'denisecastrolima@yahoo.com'),\n",
    "    ('Elaine Souza', '(81) 99234-5678', 'elaine.souza76@gmail.com'),\n",
    "    ('Fátima Pereira', '(81) 98899-9988', 'fatimapereira90@yahoo.com'),\n",
    "    ('Gabriela Alves', '(81) 99432-2211', 'gabrielaalves12@outlook.com'),\n",
    "    ('Heloisa Santos', '(81) 99676-5544', 'heloisa.santos45@gmail.com'),\n",
    "    ('Isabela Silva', '(81) 99123-4567', 'isabelasilva22@yahoo.com'),\n",
    "    ('Julia Castro', '(81) 99999-1122', 'juliacastro10@hotmail.com'),\n",
    "    ('Karina Costa', '(81) 99222-4433', 'karinacosta7@outlook.com'),\n",
    "    ('Leticia Lima', '(81) 98765-9988', 'leticialima18@yahoo.com'),\n",
    "    ('Marta Martins', '(81) 98888-6655', 'martamartins67@gmail.com'),\n",
    "    ('Natalia Pereira', '(81) 99777-3344', 'nataliapereira33@hotmail.com'),\n",
    "    ('Olivia Gomes', '(81) 99444-5678', 'oliviagomes98@yahoo.com'),\n",
    "    ('Paula Souza', '(81) 99123-1234', 'paulasouza87@gmail.com'),\n",
    "    ('Rafaela Lima', '(81) 99876-5432', 'rafaelalima55@hotmail.com'),\n",
    "    ('Sandra Santos', '(81) 99654-8877', 'sandrasantos89@outlook.com'),\n",
    "    ('Tatiana Oliveira', '(81) 99456-0099', 'tatiana.oliveira78@yahoo.com'),\n",
    "    ('Vivian Castro', '(81) 98876-3322', 'viviancastro56@gmail.com')\n",
    "]\n",
    "\n",
    "insert_cliente_query = '''\n",
    "    INSERT INTO Cliente (Nome_Cliente, Telefone_Cliente, Email_Cliente)\n",
    "    VALUES (?, ?, ?)\n",
    "'''\n",
    "\n",
    "cursor.executemany(insert_cliente_query, clientes)"
   ]
  },
  {
   "attachments": {},
   "cell_type": "markdown",
   "metadata": {},
   "source": [
    "### Inserindo dados na tabela Funcionario"
   ]
  },
  {
   "cell_type": "code",
   "execution_count": 11,
   "metadata": {},
   "outputs": [
    {
     "data": {
      "text/plain": [
       "<sqlite3.Cursor at 0x7f0ae29191c0>"
      ]
     },
     "execution_count": 11,
     "metadata": {},
     "output_type": "execute_result"
    }
   ],
   "source": [
    "funcionarios = [\n",
    "    ('Susy Kelly', '(81) 98765-4321', 'susykelly1@gmail.com'),\n",
    "    ('Camilla Kelly', '(81) 99876-5432', 'camillakelly3@hotmail.com'),\n",
    "    ('Paula Santos', '(81) 99654-3210', 'paula.santos10@outlook.com')\n",
    "]\n",
    "\n",
    "insert_funcionario_query = '''\n",
    "    INSERT INTO Funcionario (Nome_Func, Telefone_Func, Email_Func)\n",
    "    VALUES (?, ?, ?)\n",
    "'''\n",
    "\n",
    "cursor.executemany(insert_funcionario_query, funcionarios)"
   ]
  },
  {
   "attachments": {},
   "cell_type": "markdown",
   "metadata": {},
   "source": [
    "### Inserindo dados na tabela Servico"
   ]
  },
  {
   "cell_type": "code",
   "execution_count": 12,
   "metadata": {},
   "outputs": [
    {
     "data": {
      "text/plain": [
       "<sqlite3.Cursor at 0x7f0ae29191c0>"
      ]
     },
     "execution_count": 12,
     "metadata": {},
     "output_type": "execute_result"
    }
   ],
   "source": [
    "servicos = [\n",
    "    ('Corte de Cabelo Curto', 50.00),\n",
    "    ('Corte de Cabelo Médio', 55.00),\n",
    "    ('Corte de Cabelo Longo', 60.00),\n",
    "    ('Corte de Franja', 25.00),\n",
    "    ('Escova Modelada', 70.00),\n",
    "    ('Escova Progressiva', 120.00),\n",
    "    ('Progressiva Sem Formol', 150.00),\n",
    "    ('Coloração de Cabelo', 80.00),\n",
    "    ('Hidratação Capilar', 50.00),\n",
    "    ('Relaxamento de Cabelo', 100.00),\n",
    "    ('Cauterização Capilar', 110.00),\n",
    "    ('Selagem Capilar', 100.00),\n",
    "    ('Penteado para Eventos', 80.00),\n",
    "    ('Mechas', 120.00),\n",
    "    ('Botox Capilar', 120.00),\n",
    "    ('Luzes', 110.00)\n",
    "]\n",
    "\n",
    "insert_servico_query = '''\n",
    "    INSERT INTO Servico (Nome_Servico, Preco_Servico)\n",
    "    VALUES (?, ?)\n",
    "'''\n",
    "\n",
    "cursor.executemany(insert_servico_query, servicos)"
   ]
  },
  {
   "attachments": {},
   "cell_type": "markdown",
   "metadata": {},
   "source": [
    "### Inserindo dados na tabela Atendimentos"
   ]
  },
  {
   "cell_type": "code",
   "execution_count": 13,
   "metadata": {},
   "outputs": [
    {
     "data": {
      "text/plain": [
       "<sqlite3.Cursor at 0x7f0ae29191c0>"
      ]
     },
     "execution_count": 13,
     "metadata": {},
     "output_type": "execute_result"
    }
   ],
   "source": [
    "atendimento_values = []\n",
    "for month in range(1, 6):\n",
    "    num_days = monthrange(2023, month)[1]\n",
    "    \n",
    "    for _ in range(15):\n",
    "        id_cliente = randint(1, 25)\n",
    "        id_funcionario = randint(1, 3)\n",
    "        id_servico = randint(1, 16)\n",
    "        day = randint(1, num_days)\n",
    "        hora = f'{randint(9, 20):02d}:00:00'\n",
    "        data = f'2023-{month:02d}-{day:02d}'\n",
    "        atendimento_values.append((id_cliente, id_funcionario, id_servico, data, hora))\n",
    "\n",
    "insert_atendimento_query = '''\n",
    "    INSERT INTO Atendimentos (ID_Cliente, ID_Funcionario, ID_Servico, Data, Hora)\n",
    "    VALUES (?, ?, ?, ?, ?)\n",
    "'''\n",
    "\n",
    "cursor.executemany(insert_atendimento_query, atendimento_values)"
   ]
  },
  {
   "attachments": {},
   "cell_type": "markdown",
   "metadata": {},
   "source": [
    "### Comitando e fechando a conexão"
   ]
  },
  {
   "cell_type": "code",
   "execution_count": 14,
   "metadata": {},
   "outputs": [],
   "source": [
    "conn.commit()\n",
    "conn.close()"
   ]
  },
  {
   "attachments": {},
   "cell_type": "markdown",
   "metadata": {},
   "source": [
    "### Query para consultar os Atendimentos realizados por Susy no mês de março"
   ]
  },
  {
   "cell_type": "code",
   "execution_count": null,
   "metadata": {},
   "outputs": [],
   "source": [
    "conn = db.connect('susy.db')\n",
    "\n",
    "query_atendimentosSusy_mar = '''\n",
    "    SELECT \n",
    "        Atendimentos.ID_Atendimento AS \"ID Atendimento\",\n",
    "        Cliente.Nome_Cliente AS \"Nome do Cliente\",\n",
    "        Funcionario.Nome_Func AS \"Nome do Funcionário\",\n",
    "        Servico.Nome_Servico AS \"Nome do Serviço\",\n",
    "        Servico.Preco_Servico AS \"Preço do Serviço\"\n",
    "    FROM Atendimentos\n",
    "        INNER JOIN Funcionario ON Atendimentos.ID_Funcionario = Funcionario.ID\n",
    "        INNER JOIN Servico ON Atendimentos.ID_Servico = Servico.ID\n",
    "        INNER JOIN Cliente ON Atendimentos.ID_Cliente = Cliente.ID\n",
    "        WHERE Funcionario.Nome_Func = 'Susy Kelly' AND strftime('%m', Atendimentos.Data) = '03'\n",
    "'''\n",
    "\n",
    "df_atendimentosSusy_mar = pd.read_sql_query(query_atendimentosSusy_mar, conn)\n",
    "\n",
    "conn.close()\n",
    "\n",
    "df_atendimentosSusy_mar"
   ]
  },
  {
   "attachments": {},
   "cell_type": "markdown",
   "metadata": {},
   "source": [
    "### Query para consultar a Qtde de Atendimentos + Lucro Obtido por Susy no mês de maio"
   ]
  },
  {
   "cell_type": "code",
   "execution_count": null,
   "metadata": {},
   "outputs": [],
   "source": [
    "conn = db.connect('susy.db')\n",
    "\n",
    "query_lucroSusy_maio = '''\n",
    "SELECT\n",
    "    strftime('%m', Atendimentos.Data) AS 'Mês',\n",
    "    COUNT(*) AS 'Qtde de Atendimentos',\n",
    "    SUM(Servico.Preco_Servico) AS 'Lucro Obtido',\n",
    "    Funcionario.Nome_func AS 'Funcionário'\n",
    "FROM Atendimentos\n",
    "    INNER JOIN Funcionario ON Atendimentos.ID_Funcionario = Funcionario.ID\n",
    "    INNER JOIN Servico ON Atendimentos.ID_Servico = Servico.ID\n",
    "    WHERE Funcionario.Nome_Func = 'Susy Kelly' AND strftime('%m', Atendimentos.Data) = '05'\n",
    "    GROUP BY strftime('%m', Atendimentos.Data)\n",
    "'''\n",
    "\n",
    "df_lucroSusy_maio = pd.read_sql_query(query_lucroSusy_maio, conn)\n",
    "\n",
    "conn.close()\n",
    "\n",
    "df_lucroSusy_maio"
   ]
  }
 ],
 "metadata": {
  "kernelspec": {
   "display_name": "Python 3",
   "language": "python",
   "name": "python3"
  },
  "language_info": {
   "codemirror_mode": {
    "name": "ipython",
    "version": 3
   },
   "file_extension": ".py",
   "mimetype": "text/x-python",
   "name": "python",
   "nbconvert_exporter": "python",
   "pygments_lexer": "ipython3",
   "version": "3.10.4"
  },
  "orig_nbformat": 4
 },
 "nbformat": 4,
 "nbformat_minor": 2
}
